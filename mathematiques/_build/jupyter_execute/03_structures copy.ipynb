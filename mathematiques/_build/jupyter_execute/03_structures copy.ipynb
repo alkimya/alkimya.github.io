{
 "cells": [
  {
   "cell_type": "markdown",
   "metadata": {},
   "source": [
    "# Structures algébriques\n",
    "\n",
    "## Loi de composition interne\n",
    "\n",
    "_**définition :**_ **Loi de composition interne - magma**  \n",
    "Soit $E$ un ensemble.  \n",
    "Une **loi de composition interne**, **lci** en abrégé, dans $E$ est une application $\\star$ de $E \\times E$ dans $E$, $\\star$ est une opération binaire stable par $E$.  \n",
    "$\\forall x, y \\in E, \\: x \\star y \\in E$.  \n",
    "Un **magma** est un ensemble $E$ muni d'une lci $\\star$, on le note $(E, \\star)$\n",
    "\n",
    "## Groupe\n",
    "\n",
    "## Anneau\n",
    "\n",
    "## Corps"
   ]
  },
  {
   "cell_type": "markdown",
   "metadata": {},
   "source": []
  }
 ],
 "metadata": {
  "language_info": {
   "codemirror_mode": {
    "name": "ipython",
    "version": 3
   },
   "file_extension": ".py",
   "mimetype": "text/x-python",
   "name": "python",
   "nbconvert_exporter": "python",
   "pygments_lexer": "ipython3",
   "version": "3.9.7"
  }
 },
 "nbformat": 4,
 "nbformat_minor": 2
}