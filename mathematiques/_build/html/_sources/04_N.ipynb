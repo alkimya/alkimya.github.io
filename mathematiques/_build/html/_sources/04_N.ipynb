{
 "cells": [
  {
   "cell_type": "markdown",
   "metadata": {},
   "source": [
    "# L'ensemble $\\mathbb{N}$\n",
    "\n",
    "## Les axiomes de Peano\n",
    "\n",
    "L'idée de la construction de $\\mathbb{N}$ est assez simple, nous partons de 0, et nous définissons une fonction $S$ injective, appelé successeur.\n",
    "\n",
    "L'ensemble $\\mathbb{N}$ est alors défini par ce que l'on appelle les axiomes de Peano.\n",
    "\n",
    "- L'ensemble possède un élément particulier que l’on note 0.\n",
    "- Chaque élément $n$ possède un successeur que l’on note $S(n)$.\n",
    "- 0 n'est le successeur d'aucun élément.\n",
    "- L'application $S:\\mathbb{N} \\to \\mathbb{N}$ est injective, c'est-à-dire que si deux éléments ont le même successeur, ils sont égaux.\n",
    "- Toute partie $\\mathbb{N}$ contenant 0 et stable par $S$ est égale à $\\mathbb{N}$ tout entier.\n",
    "\n",
    "Le premier axiome postule que $\\mathbb{N}$ n'est pas vide, le deuxième qu'il est infini et le troisième qu'il a un plus petit élément.  \n",
    "Le dernier axiome pose le principe de récurrence dans $\\mathbb{N}$ $(0 \\in \\mathbb{N}, n \\in \\mathbb{N} \\implies S(n) \\in \\mathbb{N})$.  \n",
    "On note $\\mathbb{N^{*}}$, l'ensemble $\\mathbb{N}$ privé de 0, $\\mathbb{N^{*}} = \\mathbb{N} \\backslash 0$\n",
    "\n",
    "```{prf:proposition} Raisonnement par récurrence\n",
    "Soit $P$ une proposition, $k$ un entier naturel tel que  \n",
    "**initialisation :** $P(k)$ est vraie  \n",
    "**hérédité :** $\\forall n \\in \\mathbb{N} \\mid n \\geq k, P(n) \\implies P(S(n))$  \n",
    "Alors la propriété $P$ est vraie pour tout $n \\geq k$.\n",
    "```\n",
    "\n",
    "```{prf:definition} Addition, multiplication et puissance\n",
    "On définit par récurrence l'addition, noté +, la multiplication, noté $\\cdot$ ou $\\times$ et la puissance tels que  \n",
    "$\\forall m, n \\in \\mathbb{N}$,  \n",
    "**addition :** \n",
    "$\\begin{align*}\n",
    "m + 0 &= m\\\\\n",
    "m + S(n) &= S(m + n)\n",
    "\\end{align*}$  \n",
    "On note $S(0) = 1$ et $\\forall n \\in \\mathbb{N}, \\: S(n) = n + 1$  \n",
    "**multiplication :**\n",
    "$\\begin{align*}\n",
    "m \\cdot 0 &= 0\\\\\n",
    "m \\cdot S(n) &= m \\cdot n + m\n",
    "\\end{align*}$  \n",
    "**puissance :**\n",
    "$\\begin{align*}\n",
    "m^{0} &= 1\\\\\n",
    "m^{S(n)} &= m^{n} \\cdot m\n",
    "\\end{align*}$\n",
    "```\n",
    "\n",
    "```{prf:property} Propriétés de l'addition et de la multiplication\n",
    "$\\forall m, n, p \\in \\mathbb{N}$  \n",
    "**commutativité :**\n",
    "$\\begin{align*}\n",
    "m + n &= n + m\\\\\n",
    "m \\cdot n &= n \\cdot m\n",
    "\\end{align*}$  \n",
    "**associativité :**\n",
    "$\\begin{align*}\n",
    "(m + n) + p &= m + (n + p)\\\\\n",
    "(m \\cdot n) \\cdot p &= m \\cdot (n \\cdot p)\n",
    "\\end{align*}$  \n",
    "**distributivité :**\n",
    "$m \\cdot (n + p) = m \\cdot n + m \\cdot p$  \n",
    "La multiplication $\\cdot$ est distributive par rapport à l'addition +  \n",
    "0 est **élément neutre** pour l'addition, $m + 0 = 0 + m = m$  \n",
    "1 est **élément neutre** pour la multiplication, $m \\cdot 1 = 1 \\cdot m = m$  \n",
    "0 est **élément absorbant** pour la multiplication, $m \\cdot 0 = 0 \\cdot m = 0$  \n",
    "Muni de ces deux **lois de composition interne**, + et $\\cdot$, $(\\mathbb{N}, +)$ est un **monoïde** commutatif, $(\\mathbb{N}, \\cdot)$ est un **monoïde** commutatif et $(\\mathbb{N}, +, \\cdot)$ est un **demi-anneau**.\n",
    "```"
   ]
  },
  {
   "cell_type": "markdown",
   "metadata": {},
   "source": []
  },
  {
   "cell_type": "markdown",
   "metadata": {},
   "source": []
  }
 ],
 "metadata": {
  "interpreter": {
   "hash": "916dbcbb3f70747c44a77c7bcd40155683ae19c65e1c03b4aa3499c5328201f1"
  },
  "kernelspec": {
   "display_name": "Python 3.9.7 64-bit",
   "name": "python3"
  },
  "language_info": {
   "name": "python",
   "version": "3.9.7"
  },
  "orig_nbformat": 4
 },
 "nbformat": 4,
 "nbformat_minor": 2
}
